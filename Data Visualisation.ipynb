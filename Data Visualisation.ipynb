{
 "cells": [
  {
   "cell_type": "code",
   "execution_count": 15,
   "metadata": {},
   "outputs": [
    {
     "name": "stdout",
     "output_type": "stream",
     "text": [
      "     Unnamed: 0                                    OBO Ontology ID  \\\n",
      "0             0  [kidney loop of Henle thin ascending limb epit...   \n",
      "1             1  [kidney connecting tubule epithelial cell](htt...   \n",
      "2             2  [kidney loop of Henle thin descending limb epi...   \n",
      "3             3  [kidney distal convoluted tubule epithelial ce...   \n",
      "4             4  [endothelial cell](http://www.ontobee.org/onto...   \n",
      "..          ...                                                ...   \n",
      "481          15  [GABAergic neuron](http://www.ontobee.org/onto...   \n",
      "482          16  [GABAergic neuron](http://www.ontobee.org/onto...   \n",
      "483          17  [GABAergic neuron](http://www.ontobee.org/onto...   \n",
      "484          18  [GABAergic neuron](http://www.ontobee.org/onto...   \n",
      "485          19  [brain pericyte](http://www.ontobee.org/ontolo...   \n",
      "\n",
      "                                               Markers  \n",
      "0    SH3GL3,PLCB1,LGR4,BICDL1,PAX8,MAL,CACNA2D3,CDR...  \n",
      "1    LINC01099,PDE4D,NR3C2,SCN2A,CADPS2,COBLL1,TOX3...  \n",
      "2          MYO9A,LINC01320,FOXP2,PAX8,BICC1,OXR1,PKHD1  \n",
      "3    SLC12A3,CACNA1D,LINC01055,ARHGAP6,FGF13,TRPM6,...  \n",
      "4    SHANK3,ADGRL4,EGFL7,TEK,PLVAP,CEACAM1,NOSTRIN,...  \n",
      "..                                                 ...  \n",
      "481  CNR1, SLC8A1, ASIC2, CXCL14, MAML3, ADARB2, NP...  \n",
      "482  GRIK1, RALYL, SST, TRHDE, GRID2, NXPH1, COL25A...  \n",
      "483  NPY, FAM46A, STAC, OTOF, NPY2R, CRHBP, ANKRD34...  \n",
      "484  GALNTL6, LRP1B, VIP, GRM7, KCNT2, THSD7A, ERBB...  \n",
      "485  COLEC12, ITIH5, COL1A2, TBX18, EBF1, C7, COL6A...  \n",
      "\n",
      "[486 rows x 3 columns]\n"
     ]
    }
   ],
   "source": [
    "import pandas as pd\n",
    "\n",
    "excel1 = 'E:/Gephi/azimuth_ct_tables/testsheet1.csv'\n",
    "excel2 = 'E:/Gephi/azimuth_ct_tables/mousebrain_class.csv'\n",
    "\n",
    "df1 = pd.read_csv(excel1)\n",
    "df2 = pd.read_csv(excel2)\n",
    "\n",
    "print(df1)\n"
   ]
  },
  {
   "cell_type": "code",
   "execution_count": 17,
   "metadata": {},
   "outputs": [],
   "source": [
    "df1[\"Markers\"]=df1[\"Markers\"].str.split(\",\")\n",
    "df1 = df1.explode(\"Markers\").reset_index(drop=True)"
   ]
  },
  {
   "cell_type": "code",
   "execution_count": 18,
   "metadata": {},
   "outputs": [
    {
     "data": {
      "text/html": [
       "<div>\n",
       "<style scoped>\n",
       "    .dataframe tbody tr th:only-of-type {\n",
       "        vertical-align: middle;\n",
       "    }\n",
       "\n",
       "    .dataframe tbody tr th {\n",
       "        vertical-align: top;\n",
       "    }\n",
       "\n",
       "    .dataframe thead th {\n",
       "        text-align: right;\n",
       "    }\n",
       "</style>\n",
       "<table border=\"1\" class=\"dataframe\">\n",
       "  <thead>\n",
       "    <tr style=\"text-align: right;\">\n",
       "      <th></th>\n",
       "      <th>Unnamed: 0</th>\n",
       "      <th>OBO Ontology ID</th>\n",
       "      <th>Markers</th>\n",
       "    </tr>\n",
       "  </thead>\n",
       "  <tbody>\n",
       "    <tr>\n",
       "      <th>0</th>\n",
       "      <td>0</td>\n",
       "      <td>[kidney loop of Henle thin ascending limb epit...</td>\n",
       "      <td>SH3GL3</td>\n",
       "    </tr>\n",
       "    <tr>\n",
       "      <th>1</th>\n",
       "      <td>0</td>\n",
       "      <td>[kidney loop of Henle thin ascending limb epit...</td>\n",
       "      <td>PLCB1</td>\n",
       "    </tr>\n",
       "    <tr>\n",
       "      <th>2</th>\n",
       "      <td>0</td>\n",
       "      <td>[kidney loop of Henle thin ascending limb epit...</td>\n",
       "      <td>LGR4</td>\n",
       "    </tr>\n",
       "    <tr>\n",
       "      <th>3</th>\n",
       "      <td>0</td>\n",
       "      <td>[kidney loop of Henle thin ascending limb epit...</td>\n",
       "      <td>BICDL1</td>\n",
       "    </tr>\n",
       "    <tr>\n",
       "      <th>4</th>\n",
       "      <td>0</td>\n",
       "      <td>[kidney loop of Henle thin ascending limb epit...</td>\n",
       "      <td>PAX8</td>\n",
       "    </tr>\n",
       "    <tr>\n",
       "      <th>...</th>\n",
       "      <td>...</td>\n",
       "      <td>...</td>\n",
       "      <td>...</td>\n",
       "    </tr>\n",
       "    <tr>\n",
       "      <th>4738</th>\n",
       "      <td>19</td>\n",
       "      <td>[brain pericyte](http://www.ontobee.org/ontolo...</td>\n",
       "      <td>C7</td>\n",
       "    </tr>\n",
       "    <tr>\n",
       "      <th>4739</th>\n",
       "      <td>19</td>\n",
       "      <td>[brain pericyte](http://www.ontobee.org/ontolo...</td>\n",
       "      <td>COL6A2</td>\n",
       "    </tr>\n",
       "    <tr>\n",
       "      <th>4740</th>\n",
       "      <td>19</td>\n",
       "      <td>[brain pericyte](http://www.ontobee.org/ontolo...</td>\n",
       "      <td>SRPX2</td>\n",
       "    </tr>\n",
       "    <tr>\n",
       "      <th>4741</th>\n",
       "      <td>19</td>\n",
       "      <td>[brain pericyte](http://www.ontobee.org/ontolo...</td>\n",
       "      <td>FLVCR2</td>\n",
       "    </tr>\n",
       "    <tr>\n",
       "      <th>4742</th>\n",
       "      <td>19</td>\n",
       "      <td>[brain pericyte](http://www.ontobee.org/ontolo...</td>\n",
       "      <td>FMO2</td>\n",
       "    </tr>\n",
       "  </tbody>\n",
       "</table>\n",
       "<p>4743 rows × 3 columns</p>\n",
       "</div>"
      ],
      "text/plain": [
       "      Unnamed: 0                                    OBO Ontology ID  Markers\n",
       "0              0  [kidney loop of Henle thin ascending limb epit...   SH3GL3\n",
       "1              0  [kidney loop of Henle thin ascending limb epit...    PLCB1\n",
       "2              0  [kidney loop of Henle thin ascending limb epit...     LGR4\n",
       "3              0  [kidney loop of Henle thin ascending limb epit...   BICDL1\n",
       "4              0  [kidney loop of Henle thin ascending limb epit...     PAX8\n",
       "...          ...                                                ...      ...\n",
       "4738          19  [brain pericyte](http://www.ontobee.org/ontolo...       C7\n",
       "4739          19  [brain pericyte](http://www.ontobee.org/ontolo...   COL6A2\n",
       "4740          19  [brain pericyte](http://www.ontobee.org/ontolo...    SRPX2\n",
       "4741          19  [brain pericyte](http://www.ontobee.org/ontolo...   FLVCR2\n",
       "4742          19  [brain pericyte](http://www.ontobee.org/ontolo...     FMO2\n",
       "\n",
       "[4743 rows x 3 columns]"
      ]
     },
     "execution_count": 18,
     "metadata": {},
     "output_type": "execute_result"
    }
   ],
   "source": [
    "df1"
   ]
  },
  {
   "cell_type": "code",
   "execution_count": 19,
   "metadata": {},
   "outputs": [],
   "source": [
    "df1.to_csv(\"final_sheet.csv\")"
   ]
  },
  {
   "cell_type": "code",
   "execution_count": null,
   "metadata": {},
   "outputs": [],
   "source": []
  }
 ],
 "metadata": {
  "kernelspec": {
   "display_name": "Python 3",
   "language": "python",
   "name": "python3"
  },
  "language_info": {
   "codemirror_mode": {
    "name": "ipython",
    "version": 3
   },
   "file_extension": ".py",
   "mimetype": "text/x-python",
   "name": "python",
   "nbconvert_exporter": "python",
   "pygments_lexer": "ipython3",
   "version": "3.8.5"
  }
 },
 "nbformat": 4,
 "nbformat_minor": 4
}
